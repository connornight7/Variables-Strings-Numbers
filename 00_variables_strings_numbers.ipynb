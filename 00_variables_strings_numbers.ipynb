{
  "cells": [
    {
      "cell_type": "markdown",
      "metadata": {
        "id": "aLK6qF5PB_by"
      },
      "source": [
        "## Variables"
      ]
    },
    {
      "cell_type": "markdown",
      "metadata": {},
      "source": [
        "A **variable** is a way of storing a reference to data that you can recall later. Rather than having to type out the data long-hand over and over again, you can simply type the variable name. This will become especially useful as our data types grow more complex."
      ]
    },
    {
      "cell_type": "code",
      "execution_count": 18,
      "metadata": {
        "id": "JLTMQ6_2B_b0"
      },
      "outputs": [],
      "source": [
        "# `greeting` is a variable; \"Hello world!\" is a string\n",
        "greeting = \"Hello world!\""
      ]
    },
    {
      "cell_type": "code",
      "execution_count": 19,
      "metadata": {
        "id": "cZbnXEVXB_b1"
      },
      "outputs": [
        {
          "name": "stdout",
          "output_type": "stream",
          "text": [
            "Hello world!\n"
          ]
        }
      ],
      "source": [
        "# `print()` is a function\n",
        "print(greeting)"
      ]
    },
    {
      "cell_type": "code",
      "execution_count": 20,
      "metadata": {
        "id": "TOzUs8zPB_b1"
      },
      "outputs": [
        {
          "data": {
            "text/plain": [
              "'Hello world!'"
            ]
          },
          "execution_count": 20,
          "metadata": {},
          "output_type": "execute_result"
        }
      ],
      "source": [
        "# What happens when we evaluate this cell?\n",
        "greeting"
      ]
    },
    {
      "cell_type": "markdown",
      "metadata": {},
      "source": [
        "As you can guess by the name, variables tend to change. Let's try reassigning another string to the variable `greeting`:"
      ]
    },
    {
      "cell_type": "code",
      "execution_count": 21,
      "metadata": {},
      "outputs": [],
      "source": [
        "greeting = \"Hello, Intro to DH!\""
      ]
    },
    {
      "cell_type": "code",
      "execution_count": 22,
      "metadata": {},
      "outputs": [],
      "source": [
        "# Your turn --- how do we **print** the variable?"
      ]
    },
    {
      "cell_type": "markdown",
      "metadata": {},
      "source": [
        "Some languages support **constants** in addition to variables. Constants don't change.\n",
        "\n",
        "Python doesn't support constants, so we have to rely on convention: UPPERCASE variables are treated as constants and should not be reassigned."
      ]
    },
    {
      "cell_type": "code",
      "execution_count": 23,
      "metadata": {},
      "outputs": [],
      "source": [
        "I_SHOULD_NEVER_CHANGE = \"this is a constant\""
      ]
    },
    {
      "cell_type": "code",
      "execution_count": 24,
      "metadata": {},
      "outputs": [
        {
          "data": {
            "text/plain": [
              "'this is a constant'"
            ]
          },
          "execution_count": 24,
          "metadata": {},
          "output_type": "execute_result"
        }
      ],
      "source": [
        "I_SHOULD_NEVER_CHANGE"
      ]
    },
    {
      "cell_type": "code",
      "execution_count": 25,
      "metadata": {},
      "outputs": [],
      "source": [
        "I_SHOULD_NEVER_CHANGE = \"uh-oh! don't do this!!!\""
      ]
    },
    {
      "cell_type": "code",
      "execution_count": 26,
      "metadata": {},
      "outputs": [
        {
          "data": {
            "text/plain": [
              "\"uh-oh! don't do this!!!\""
            ]
          },
          "execution_count": 26,
          "metadata": {},
          "output_type": "execute_result"
        }
      ],
      "source": [
        "I_SHOULD_NEVER_CHANGE"
      ]
    },
    {
      "cell_type": "markdown",
      "metadata": {},
      "source": [
        "Pythonic code follows a number of conventions for variables:\n",
        "\n",
        "1. Uppercase variables are treated as constants\n",
        "2. Variables should use snake_case, not camelCase\n",
        "3. Variables cannot being with a number, only a letter or an underscore\n",
        "4. Variables can only contain letters, numbers, and underscores"
      ]
    },
    {
      "cell_type": "markdown",
      "metadata": {
        "id": "i9cbXHSUpeEJ"
      },
      "source": [
        "## Strings"
      ]
    },
    {
      "cell_type": "markdown",
      "metadata": {},
      "source": [
        "A **string** is what we think of as text. As you can imagine, doing computational textual analysis involves working a lot with strings.\n",
        "\n",
        "Under the hood, strings are fascinatingly complex. For our purposes, you mainly need to understand that a Python string is UTF-8 encoded, meaning it supports complex characters (among other features), and it is enclosed in single or double quotation marks."
      ]
    },
    {
      "cell_type": "code",
      "execution_count": 27,
      "metadata": {},
      "outputs": [
        {
          "data": {
            "text/plain": [
              "'this is a string **literal**'"
            ]
          },
          "execution_count": 27,
          "metadata": {},
          "output_type": "execute_result"
        }
      ],
      "source": [
        "# A literal is data that is declared directly -- it is **literally** what it is\n",
        "\"this is a string **literal**\""
      ]
    },
    {
      "cell_type": "code",
      "execution_count": 28,
      "metadata": {
        "id": "e6_bNdg5B_b3"
      },
      "outputs": [
        {
          "name": "stdout",
          "output_type": "stream",
          "text": [
            "This is a string.\n"
          ]
        }
      ],
      "source": [
        "ex_1  = \"This is a string.\"\n",
        "print(ex_1)"
      ]
    },
    {
      "cell_type": "code",
      "execution_count": 29,
      "metadata": {
        "id": "DEmVQKnLB_b3"
      },
      "outputs": [
        {
          "name": "stdout",
          "output_type": "stream",
          "text": [
            "This is also a string\n"
          ]
        }
      ],
      "source": [
        "ex_2 = 'This is also a string'\n",
        "print(ex_2)"
      ]
    },
    {
      "cell_type": "code",
      "execution_count": 30,
      "metadata": {
        "id": "6N7JobIrB_b3"
      },
      "outputs": [
        {
          "name": "stdout",
          "output_type": "stream",
          "text": [
            "Here is a string.\n"
          ]
        }
      ],
      "source": [
        "ex_3 = \"Here is a string.\"\n",
        "print(ex_3)"
      ]
    },
    {
      "cell_type": "code",
      "execution_count": 31,
      "metadata": {
        "id": "pwaxgu1HB_b3"
      },
      "outputs": [
        {
          "name": "stdout",
          "output_type": "stream",
          "text": [
            "I asked the question, \"When should I use single quotes.\"\n"
          ]
        }
      ],
      "source": [
        "ex_4 = 'I asked the question, \"When should I use single quotes.\"'\n",
        "print(ex_4)"
      ]
    },
    {
      "cell_type": "code",
      "execution_count": 32,
      "metadata": {
        "id": "1E3MwY0DB_b3"
      },
      "outputs": [
        {
          "name": "stdout",
          "output_type": "stream",
          "text": [
            "edward gibbon\n"
          ]
        }
      ],
      "source": [
        "historian = \"edward gibbon\"\n",
        "print(historian)"
      ]
    },
    {
      "cell_type": "code",
      "execution_count": 33,
      "metadata": {
        "id": "ComprGlSB_b4"
      },
      "outputs": [
        {
          "name": "stdout",
          "output_type": "stream",
          "text": [
            "Edward Gibbon\n"
          ]
        }
      ],
      "source": [
        "print(historian.title())"
      ]
    },
    {
      "cell_type": "code",
      "execution_count": 34,
      "metadata": {
        "id": "c-GaA4_JB_b4"
      },
      "outputs": [
        {
          "name": "stdout",
          "output_type": "stream",
          "text": [
            "<built-in method title of str object at 0x7fda283429f0>\n"
          ]
        }
      ],
      "source": [
        "# What happens if we forget the parentheses on `title()`?\n",
        "print(historian.title)"
      ]
    },
    {
      "cell_type": "markdown",
      "metadata": {},
      "source": [
        "You can also write multiline strings with three quotation marks on either side. When we learn about writing classes and functions, you'll see multiline strings as ways of documenting what functions do."
      ]
    },
    {
      "cell_type": "code",
      "execution_count": 35,
      "metadata": {},
      "outputs": [],
      "source": [
        "multiline_string = \"\"\"\n",
        "I'm on multiple lines!\n",
        "\n",
        "Whoa!\n",
        "\"\"\""
      ]
    },
    {
      "cell_type": "code",
      "execution_count": 36,
      "metadata": {},
      "outputs": [
        {
          "name": "stdout",
          "output_type": "stream",
          "text": [
            "\n",
            "I'm on multiple lines!\n",
            "\n",
            "Whoa!\n",
            "\n"
          ]
        }
      ],
      "source": [
        "print(multiline_string)"
      ]
    },
    {
      "cell_type": "code",
      "execution_count": 37,
      "metadata": {
        "id": "k5K8KbEqB_b4"
      },
      "outputs": [
        {
          "name": "stdout",
          "output_type": "stream",
          "text": [
            "becky chambers\n"
          ]
        }
      ],
      "source": [
        "novelist = \"Becky Chambers\"\n",
        "print(novelist.lower())"
      ]
    },
    {
      "cell_type": "code",
      "execution_count": 38,
      "metadata": {
        "id": "Yo-qC0MwB_b4"
      },
      "outputs": [
        {
          "data": {
            "text/plain": [
              "True"
            ]
          },
          "execution_count": 38,
          "metadata": {},
          "output_type": "execute_result"
        }
      ],
      "source": [
        "\"becky\" == \"becky\""
      ]
    },
    {
      "cell_type": "code",
      "execution_count": 39,
      "metadata": {
        "id": "QbBcRQZfB_b4"
      },
      "outputs": [
        {
          "data": {
            "text/plain": [
              "False"
            ]
          },
          "execution_count": 39,
          "metadata": {},
          "output_type": "execute_result"
        }
      ],
      "source": [
        "\"becky\" == \"Becky\""
      ]
    },
    {
      "cell_type": "code",
      "execution_count": 40,
      "metadata": {
        "id": "6bJmR4ZSB_b4"
      },
      "outputs": [],
      "source": [
        "first_name = \"ada\"\n",
        "last_name = \"lovelace\""
      ]
    },
    {
      "cell_type": "code",
      "execution_count": 41,
      "metadata": {
        "id": "ccEVnJY-B_b4"
      },
      "outputs": [
        {
          "name": "stdout",
          "output_type": "stream",
          "text": [
            "ada lovelace\n"
          ]
        }
      ],
      "source": [
        "full_name = first_name + \" \" + last_name\n",
        "print(full_name)"
      ]
    },
    {
      "cell_type": "code",
      "execution_count": 42,
      "metadata": {
        "id": "s3ukpffIB_b4"
      },
      "outputs": [
        {
          "name": "stdout",
          "output_type": "stream",
          "text": [
            " Hello, Ada Lovelace\n"
          ]
        }
      ],
      "source": [
        "greeting = f\" Hello, {first_name} {last_name}\"\n",
        "print(greeting.title())"
      ]
    },
    {
      "cell_type": "markdown",
      "metadata": {
        "id": "gFz2JAh8B_b4"
      },
      "source": [
        "## Whitespace"
      ]
    },
    {
      "cell_type": "code",
      "execution_count": 43,
      "metadata": {
        "id": "O4d0bejVB_b4"
      },
      "outputs": [
        {
          "name": "stdout",
          "output_type": "stream",
          "text": [
            "tab\n"
          ]
        }
      ],
      "source": [
        "print(\"tab\")"
      ]
    },
    {
      "cell_type": "code",
      "execution_count": 44,
      "metadata": {
        "id": "8JguVX8QB_b4"
      },
      "outputs": [
        {
          "name": "stdout",
          "output_type": "stream",
          "text": [
            "\ttab\n"
          ]
        }
      ],
      "source": [
        "print(\"\\ttab\")"
      ]
    },
    {
      "cell_type": "code",
      "execution_count": 45,
      "metadata": {
        "id": "9XqoF39uB_b4"
      },
      "outputs": [
        {
          "name": "stdout",
          "output_type": "stream",
          "text": [
            "Languages: \n",
            "Greek\n",
            "Latin\n",
            "English\n"
          ]
        }
      ],
      "source": [
        "print(\"Languages: \\nGreek\\nLatin\\nEnglish\")"
      ]
    },
    {
      "cell_type": "code",
      "execution_count": 46,
      "metadata": {
        "id": "abf-wbFVB_b4"
      },
      "outputs": [
        {
          "name": "stdout",
          "output_type": "stream",
          "text": [
            "string       \n"
          ]
        }
      ],
      "source": [
        "str_rspace = \"string       \"\n",
        "print(str_rspace)"
      ]
    },
    {
      "cell_type": "code",
      "execution_count": 47,
      "metadata": {
        "id": "B0MQPD2_B_b4"
      },
      "outputs": [
        {
          "name": "stdout",
          "output_type": "stream",
          "text": [
            "string\n"
          ]
        }
      ],
      "source": [
        "print(str_rspace.rstrip())"
      ]
    },
    {
      "cell_type": "code",
      "execution_count": 48,
      "metadata": {
        "id": "PtN_oFpCB_b5"
      },
      "outputs": [
        {
          "name": "stdout",
          "output_type": "stream",
          "text": [
            "string       .\n"
          ]
        }
      ],
      "source": [
        "example = str_rspace + \".\"\n",
        "print(example)"
      ]
    },
    {
      "cell_type": "code",
      "execution_count": 49,
      "metadata": {
        "id": "49wF2WPMB_b5"
      },
      "outputs": [
        {
          "name": "stdout",
          "output_type": "stream",
          "text": [
            "string.\n"
          ]
        }
      ],
      "source": [
        "example_2 = str_rspace.rstrip() + \".\"\n",
        "print(example_2)"
      ]
    },
    {
      "cell_type": "markdown",
      "metadata": {
        "id": "6lXtFFQ0B_b5"
      },
      "source": [
        "## Numbers"
      ]
    },
    {
      "cell_type": "code",
      "execution_count": 50,
      "metadata": {
        "id": "PzEDVoWwB_b5"
      },
      "outputs": [
        {
          "data": {
            "text/plain": [
              "5072"
            ]
          },
          "execution_count": 50,
          "metadata": {},
          "output_type": "execute_result"
        }
      ],
      "source": [
        "# integers\n",
        "238 + 4834"
      ]
    },
    {
      "cell_type": "code",
      "execution_count": 51,
      "metadata": {
        "id": "4J0s8k45B_b5"
      },
      "outputs": [
        {
          "data": {
            "text/plain": [
              "12"
            ]
          },
          "execution_count": 51,
          "metadata": {},
          "output_type": "execute_result"
        }
      ],
      "source": [
        "19 - 7"
      ]
    },
    {
      "cell_type": "code",
      "execution_count": 52,
      "metadata": {
        "id": "hA-9haewB_b5"
      },
      "outputs": [
        {
          "data": {
            "text/plain": [
              "216"
            ]
          },
          "execution_count": 52,
          "metadata": {},
          "output_type": "execute_result"
        }
      ],
      "source": [
        "54 * 4"
      ]
    },
    {
      "cell_type": "code",
      "execution_count": 53,
      "metadata": {
        "id": "14LxsedTB_b5"
      },
      "outputs": [],
      "source": [
        "num = 45"
      ]
    },
    {
      "cell_type": "code",
      "execution_count": 54,
      "metadata": {
        "id": "3mKwnS3gB_b5"
      },
      "outputs": [
        {
          "data": {
            "text/plain": [
              "45"
            ]
          },
          "execution_count": 54,
          "metadata": {},
          "output_type": "execute_result"
        }
      ],
      "source": [
        "num"
      ]
    },
    {
      "cell_type": "code",
      "execution_count": 55,
      "metadata": {
        "id": "PDogTSWoB_b5"
      },
      "outputs": [
        {
          "data": {
            "text/plain": [
              "50"
            ]
          },
          "execution_count": 55,
          "metadata": {},
          "output_type": "execute_result"
        }
      ],
      "source": [
        "num + 5"
      ]
    },
    {
      "cell_type": "code",
      "execution_count": 56,
      "metadata": {
        "id": "YUb8QZJLB_b5"
      },
      "outputs": [
        {
          "data": {
            "text/plain": [
              "int"
            ]
          },
          "execution_count": 56,
          "metadata": {},
          "output_type": "execute_result"
        }
      ],
      "source": [
        "type(num)"
      ]
    },
    {
      "cell_type": "code",
      "execution_count": 57,
      "metadata": {
        "id": "YxNBSpHkB_b5"
      },
      "outputs": [
        {
          "data": {
            "text/plain": [
              "3.0"
            ]
          },
          "execution_count": 57,
          "metadata": {},
          "output_type": "execute_result"
        }
      ],
      "source": [
        "30 / 10  # this will return a float"
      ]
    },
    {
      "cell_type": "code",
      "execution_count": 58,
      "metadata": {
        "id": "QZ3NwuPzB_b5"
      },
      "outputs": [],
      "source": [
        "f = 30 / 7"
      ]
    },
    {
      "cell_type": "code",
      "execution_count": 59,
      "metadata": {
        "id": "sp-kh3TaB_b5"
      },
      "outputs": [
        {
          "data": {
            "text/plain": [
              "4.285714285714286"
            ]
          },
          "execution_count": 59,
          "metadata": {},
          "output_type": "execute_result"
        }
      ],
      "source": [
        "f"
      ]
    },
    {
      "cell_type": "code",
      "execution_count": 60,
      "metadata": {
        "id": "UDRnydXbB_b6"
      },
      "outputs": [
        {
          "data": {
            "text/plain": [
              "float"
            ]
          },
          "execution_count": 60,
          "metadata": {},
          "output_type": "execute_result"
        }
      ],
      "source": [
        "type(f)"
      ]
    },
    {
      "cell_type": "code",
      "execution_count": 61,
      "metadata": {
        "id": "LDcm4C4gB_b6"
      },
      "outputs": [
        {
          "data": {
            "text/plain": [
              "27"
            ]
          },
          "execution_count": 61,
          "metadata": {},
          "output_type": "execute_result"
        }
      ],
      "source": [
        "3 ** 3"
      ]
    }
  ],
  "metadata": {
    "colab": {
      "provenance": []
    },
    "kernelspec": {
      "display_name": "Python 3",
      "language": "python",
      "name": "python3"
    },
    "language_info": {
      "codemirror_mode": {
        "name": "ipython",
        "version": 3
      },
      "file_extension": ".py",
      "mimetype": "text/x-python",
      "name": "python",
      "nbconvert_exporter": "python",
      "pygments_lexer": "ipython3",
      "version": "3.12.1"
    }
  },
  "nbformat": 4,
  "nbformat_minor": 0
}
